{
 "cells": [
  {
   "cell_type": "code",
   "execution_count": 24,
   "metadata": {},
   "outputs": [],
   "source": [
    "import numpy as np\n",
    "import math"
   ]
  },
  {
   "cell_type": "markdown",
   "metadata": {},
   "source": [
    "# Numpy Notes\n",
    "- Numpy is the backbone of Pandas\n",
    "- Core package for scientific computing in python"
   ]
  },
  {
   "cell_type": "markdown",
   "metadata": {},
   "source": [
    "## Getting Started\n",
    "\n",
    "Terms:\n",
    "- vectorization\n",
    "- broadcasting \n",
    "- universal function.\n",
    "\n",
    "### Numpy Array\n",
    "\n",
    "- Numpy can compress python loops to make them faster\n",
    "- Numpy uses N-dimensional arrays for homogenous (same data type) data.\n",
    "\n",
    "Simply numpy array, aka a 1 dimensional array:\n"
   ]
  },
  {
   "cell_type": "code",
   "execution_count": null,
   "metadata": {},
   "outputs": [],
   "source": [
    "array1 = np.array([10, 100, 1000.])\n",
    "print(array1)"
   ]
  },
  {
   "cell_type": "markdown",
   "metadata": {},
   "source": [
    "Nested numpy array, aka a 2 dimensional array:"
   ]
  },
  {
   "cell_type": "code",
   "execution_count": null,
   "metadata": {},
   "outputs": [],
   "source": [
    "array2 = np.array([[1., 2., 3.], [4., 5., 6.]])\n",
    "print(array2)"
   ]
  },
  {
   "cell_type": "markdown",
   "metadata": {},
   "source": [
    "2 dimensional arrays let you pick one from each array, like a point on a graph.\n",
    "#### important: each array a row, and the amount of data in the array is the columns\n",
    "\n",
    "Numpy uses dtype(datatype) float64, which lets it accomodate all elements."
   ]
  },
  {
   "cell_type": "code",
   "execution_count": null,
   "metadata": {},
   "outputs": [],
   "source": [
    "array1.dtype"
   ]
  },
  {
   "cell_type": "markdown",
   "metadata": {},
   "source": [
    "Numpy uses its own data types which are more granular than Pythons, so you can switch them in the following manner:"
   ]
  },
  {
   "cell_type": "code",
   "execution_count": null,
   "metadata": {},
   "outputs": [],
   "source": [
    "float(array1[0])"
   ]
  },
  {
   "cell_type": "markdown",
   "metadata": {},
   "source": [
    "## Vectorization and Broadcasting\n",
    "### Vectorization\n",
    "\n",
    "- also called an element-wise operation, vectorization is when you add a NumPy array, and a scalar (basic data type, like float or string)\n",
    "\n",
    "Allows you to write concise code, that looks like mathmatical notation\n"
   ]
  },
  {
   "cell_type": "code",
   "execution_count": 17,
   "metadata": {},
   "outputs": [
    {
     "name": "stdout",
     "output_type": "stream",
     "text": [
      "[[1. 2. 3.]\n",
      " [4. 5. 6.]]\n",
      "[[2. 3. 4.]\n",
      " [5. 6. 7.]]\n"
     ]
    }
   ],
   "source": [
    "print(array2)\n",
    "array3 = array2 + 1\n",
    "print(array3)"
   ]
  },
  {
   "cell_type": "markdown",
   "metadata": {},
   "source": [
    "Also works with 2 arrays:"
   ]
  },
  {
   "cell_type": "code",
   "execution_count": 19,
   "metadata": {},
   "outputs": [
    {
     "name": "stdout",
     "output_type": "stream",
     "text": [
      "[[1. 2. 3.]\n",
      " [4. 5. 6.]]\n",
      "[[ 1.  4.  9.]\n",
      " [16. 25. 36.]]\n"
     ]
    }
   ],
   "source": [
    "array4 = array2 * array2\n",
    "print(array2)\n",
    "print(array4)\n"
   ]
  },
  {
   "cell_type": "markdown",
   "metadata": {},
   "source": [
    "### Broadcasting\n",
    "- using 2 arrays with different shapes in an arithmetic operation, NumPy automatically extends the smaller array across the larger array so that their shapes become compatible"
   ]
  },
  {
   "cell_type": "code",
   "execution_count": 21,
   "metadata": {},
   "outputs": [
    {
     "name": "stdout",
     "output_type": "stream",
     "text": [
      "[  10.  100. 1000.]\n",
      "[[1. 2. 3.]\n",
      " [4. 5. 6.]]\n",
      "[[  10.  200. 3000.]\n",
      " [  40.  500. 6000.]]\n"
     ]
    }
   ],
   "source": [
    "print(array1)\n",
    "print(array2)\n",
    "\n",
    "array5 = array2 * array1\n",
    "print(array5)"
   ]
  },
  {
   "cell_type": "markdown",
   "metadata": {},
   "source": [
    "Matrix Multiplication uses the @ operator\n",
    "\n",
    "You can transpose an array with .T"
   ]
  },
  {
   "cell_type": "code",
   "execution_count": 23,
   "metadata": {},
   "outputs": [
    {
     "name": "stdout",
     "output_type": "stream",
     "text": [
      "[[14. 32.]\n",
      " [32. 77.]]\n"
     ]
    }
   ],
   "source": [
    "print(array2 @ array2.T)"
   ]
  },
  {
   "cell_type": "markdown",
   "metadata": {},
   "source": [
    "## Universal Functions (ufunc)\n",
    "\n",
    "Universal functions are a way to apply a function to every element of an array.\n",
    "\n",
    "This raises an error:\n"
   ]
  },
  {
   "cell_type": "code",
   "execution_count": null,
   "metadata": {},
   "outputs": [],
   "source": [
    "math.sqrt(array2)"
   ]
  },
  {
   "cell_type": "markdown",
   "metadata": {},
   "source": [
    "This won't:"
   ]
  },
  {
   "cell_type": "code",
   "execution_count": null,
   "metadata": {},
   "outputs": [],
   "source": [
    "np.sqrt(array2)"
   ]
  },
  {
   "cell_type": "markdown",
   "metadata": {},
   "source": [
    "If NumPy offers a ufunc for it, use it as it will be faster than writing it out the long way.\n",
    "\n",
    "Some are available as array methods:\n"
   ]
  },
  {
   "cell_type": "code",
   "execution_count": 28,
   "metadata": {},
   "outputs": [
    {
     "name": "stdout",
     "output_type": "stream",
     "text": [
      "[5. 7. 9.]\n"
     ]
    }
   ],
   "source": [
    "array6 = array2.sum(axis=0)\n",
    "print(array6)"
   ]
  },
  {
   "cell_type": "markdown",
   "metadata": {},
   "source": [
    "if you use .sum without specifying an axis, it will add the whole array"
   ]
  },
  {
   "cell_type": "markdown",
   "metadata": {},
   "source": [
    "## Getting and Setting Array Elements\n",
    "\n",
    "for matrixes, you can search it like you search a graph:\n",
    "\n",
    "numpy_array[row_selection, columb_selection]\n",
    "\n",
    "remember, axis 0 is down, axis 1 is across, and the data starts at 0!"
   ]
  },
  {
   "cell_type": "markdown",
   "metadata": {},
   "source": [
    "### Array construction\n",
    "arange stands for array range\n",
    "reshape generates the correct dimensions"
   ]
  },
  {
   "cell_type": "code",
   "execution_count": 32,
   "metadata": {},
   "outputs": [
    {
     "data": {
      "text/plain": [
       "array([[0, 1, 2, 3, 4],\n",
       "       [5, 6, 7, 8, 9]])"
      ]
     },
     "execution_count": 32,
     "metadata": {},
     "output_type": "execute_result"
    }
   ],
   "source": [
    "np.arange(2 * 5).reshape(2, 5) #2 rows, 5 columns"
   ]
  },
  {
   "cell_type": "markdown",
   "metadata": {},
   "source": [
    "Without Reshape:"
   ]
  },
  {
   "cell_type": "code",
   "execution_count": 31,
   "metadata": {},
   "outputs": [
    {
     "data": {
      "text/plain": [
       "array([0, 1, 2, 3, 4, 5, 6, 7, 8, 9])"
      ]
     },
     "execution_count": 31,
     "metadata": {},
     "output_type": "execute_result"
    }
   ],
   "source": [
    "np.arange(2*5)"
   ]
  },
  {
   "cell_type": "markdown",
   "metadata": {},
   "source": [
    "Also works with random:"
   ]
  },
  {
   "cell_type": "code",
   "execution_count": 33,
   "metadata": {},
   "outputs": [
    {
     "data": {
      "text/plain": [
       "array([[ 1.27557772, -1.3756188 , -2.11373987],\n",
       "       [-0.24304736, -2.97510021, -1.78916477]])"
      ]
     },
     "execution_count": 33,
     "metadata": {},
     "output_type": "execute_result"
    }
   ],
   "source": [
    "np.random.randn(2, 3)"
   ]
  },
  {
   "cell_type": "markdown",
   "metadata": {},
   "source": [
    "### View vs copy\n",
    "by default, you are viewing, like a link to the array\n",
    "\n",
    "ie. subset = array2(:, :2)\n",
    "- When you do this, if you modify the view it modifies the original\n",
    "- to make a copy, add .copy() to the end of the equation\n",
    "\n",
    "ie. subset = array2(:, :2).copy()"
   ]
  }
 ],
 "metadata": {
  "kernelspec": {
   "display_name": "Python 3",
   "language": "python",
   "name": "python3"
  },
  "language_info": {
   "codemirror_mode": {
    "name": "ipython",
    "version": 3
   },
   "file_extension": ".py",
   "mimetype": "text/x-python",
   "name": "python",
   "nbconvert_exporter": "python",
   "pygments_lexer": "ipython3",
   "version": "3.11.4"
  },
  "orig_nbformat": 4
 },
 "nbformat": 4,
 "nbformat_minor": 2
}
