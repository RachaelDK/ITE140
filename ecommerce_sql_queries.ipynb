{
 "cells": [
  {
   "cell_type": "code",
   "execution_count": 2,
   "metadata": {},
   "outputs": [
    {
     "name": "stdout",
     "output_type": "stream",
     "text": [
      "Defaulting to user installation because normal site-packages is not writeable\n",
      "Collecting pandasql\n",
      "  Downloading pandasql-0.7.3.tar.gz (26 kB)\n",
      "Requirement already satisfied: numpy in /Users/996366/Library/Python/3.9/lib/python/site-packages (from pandasql) (2.0.2)\n",
      "Collecting pandas\n",
      "  Downloading pandas-2.2.3-cp39-cp39-macosx_11_0_arm64.whl (11.3 MB)\n",
      "Collecting sqlalchemy\n",
      "  Downloading SQLAlchemy-2.0.36-cp39-cp39-macosx_11_0_arm64.whl (2.1 MB)\n",
      "Collecting tzdata>=2022.7\n",
      "  Downloading tzdata-2024.2-py2.py3-none-any.whl (346 kB)\n",
      "Collecting pytz>=2020.1\n",
      "  Downloading pytz-2024.2-py2.py3-none-any.whl (508 kB)\n",
      "Requirement already satisfied: python-dateutil>=2.8.2 in /Users/996366/Library/Python/3.9/lib/python/site-packages (from pandas->pandasql) (2.9.0.post0)\n",
      "Requirement already satisfied: six>=1.5 in /Library/Developer/CommandLineTools/Library/Frameworks/Python3.framework/Versions/3.9/lib/python3.9/site-packages (from python-dateutil>=2.8.2->pandas->pandasql) (1.15.0)\n",
      "Requirement already satisfied: typing-extensions>=4.6.0 in /Users/996366/Library/Python/3.9/lib/python/site-packages (from sqlalchemy->pandasql) (4.12.2)\n",
      "Building wheels for collected packages: pandasql\n",
      "  Building wheel for pandasql (setup.py): started\n",
      "  Building wheel for pandasql (setup.py): finished with status 'done'\n",
      "  Created wheel for pandasql: filename=pandasql-0.7.3-py3-none-any.whl size=26781 sha256=41160719db60e0f0e93ecab47fbe4c450cb1596eab91395d721ab93d03dc4798\n",
      "  Stored in directory: /Users/996366/Library/Caches/pip/wheels/63/e8/ec/75b1df467ecf57b6ececb32cb16f4e86697cbfe55cb0c51f07\n",
      "Successfully built pandasql\n",
      "Installing collected packages: tzdata, pytz, sqlalchemy, pandas, pandasql\n",
      "Successfully installed pandas-2.2.3 pandasql-0.7.3 pytz-2024.2 sqlalchemy-2.0.36 tzdata-2024.2\n"
     ]
    },
    {
     "name": "stderr",
     "output_type": "stream",
     "text": [
      "WARNING: You are using pip version 21.2.4; however, version 24.3.1 is available.\n",
      "You should consider upgrading via the '/Library/Developer/CommandLineTools/usr/bin/python3 -m pip install --upgrade pip' command.\n"
     ]
    }
   ],
   "source": [
    "%%bash \n",
    "python3 -m pip install pandasql"
   ]
  },
  {
   "cell_type": "code",
   "execution_count": 6,
   "metadata": {},
   "outputs": [],
   "source": [
    "import pandas as pd\n",
    "from pandasql import sqldf\n",
    "\n",
    "pysqldf = lambda q: sqldf(q, globals())\n",
    "\n",
    "data = {\n",
    "    \"transaction_id\": [1, 2, 3, 4, 5, 6, 7, 8, 9, 10],\n",
    "    \"customer_id\": [101, 102, 103, 101, 104, 102, 105, 103, 106, 101],\n",
    "    \"product_name\": [\n",
    "        \"Laptop\", \"Mouse\", \"Desk\", \"Chair\", \"Notebook\",\n",
    "        \"Keyboard\", \"Headphones\", \"Pen\", \"Monitor\", \"Lamp\"\n",
    "    ],\n",
    "    \"category\": [\n",
    "        \"Electronics\", \"Electronics\", \"Furniture\", \"Furniture\",\n",
    "        \"Stationery\", \"Electronics\", \"Electronics\", \"Stationery\",\n",
    "        \"Electronics\", \"Furniture\"\n",
    "    ],\n",
    "    \"price\": [\n",
    "        1000.99, 25.50, 200.00, 150.00, 5.00, 45.00, 75.00, 1.50, 300.00, 50.00\n",
    "    ],\n",
    "    \"quantity\": [1, 2, 1, 2, 5, 1, 1, 10, 1, 1],\n",
    "    \"purchase_date\": [\n",
    "        \"2024-12-01\", \"2024-12-01\", \"2024-11-30\", \"2024-11-29\", \"2024-12-02\",\n",
    "        \"2024-12-01\", \"2024-12-02\", \"2024-11-28\", \"2024-11-30\", \"2024-12-01\"\n",
    "    ]\n",
    "}\n",
    "\n",
    "df = pd.DataFrame(data)\n"
   ]
  },
  {
   "cell_type": "markdown",
   "metadata": {},
   "source": [
    "example:"
   ]
  },
  {
   "cell_type": "markdown",
   "metadata": {},
   "source": [
    "LIKE:"
   ]
  },
  {
   "cell_type": "code",
   "execution_count": 7,
   "metadata": {},
   "outputs": [
    {
     "name": "stdout",
     "output_type": "stream",
     "text": [
      "   transaction_id  customer_id product_name  ...    price  quantity  purchase_date\n",
      "0               1          101       Laptop  ...  1000.99         1     2024-12-01\n",
      "1              10          101         Lamp  ...    50.00         1     2024-12-01\n",
      "\n",
      "[2 rows x 7 columns]\n"
     ]
    }
   ],
   "source": [
    "query = \"\"\"\n",
    "SELECT * \n",
    "FROM df \n",
    "WHERE product_name LIKE 'L%'\n",
    "\"\"\"\n",
    "print(pysqldf(query))\n"
   ]
  },
  {
   "cell_type": "markdown",
   "metadata": {},
   "source": [
    "AND/OR"
   ]
  },
  {
   "cell_type": "code",
   "execution_count": 8,
   "metadata": {},
   "outputs": [
    {
     "name": "stdout",
     "output_type": "stream",
     "text": [
      "   transaction_id  customer_id product_name  ...    price  quantity  purchase_date\n",
      "0               1          101       Laptop  ...  1000.99         1     2024-12-01\n",
      "1               7          105   Headphones  ...    75.00         1     2024-12-02\n",
      "2               9          106      Monitor  ...   300.00         1     2024-11-30\n",
      "\n",
      "[3 rows x 7 columns]\n"
     ]
    }
   ],
   "source": [
    "query = \"\"\"\n",
    "SELECT * \n",
    "FROM df \n",
    "WHERE category = 'Electronics' AND price > 50\n",
    "\"\"\"\n",
    "print(pysqldf(query))"
   ]
  },
  {
   "cell_type": "markdown",
   "metadata": {},
   "source": [
    "BETWEEN:"
   ]
  },
  {
   "cell_type": "code",
   "execution_count": 9,
   "metadata": {},
   "outputs": [
    {
     "name": "stdout",
     "output_type": "stream",
     "text": [
      "   transaction_id  customer_id product_name  ...  price  quantity  purchase_date\n",
      "0               3          103         Desk  ...  200.0         1     2024-11-30\n",
      "1               4          101        Chair  ...  150.0         2     2024-11-29\n",
      "2               7          105   Headphones  ...   75.0         1     2024-12-02\n",
      "3               9          106      Monitor  ...  300.0         1     2024-11-30\n",
      "4              10          101         Lamp  ...   50.0         1     2024-12-01\n",
      "\n",
      "[5 rows x 7 columns]\n"
     ]
    }
   ],
   "source": [
    "query = \"\"\"\n",
    "SELECT * \n",
    "FROM df \n",
    "WHERE price BETWEEN 50 AND 300\n",
    "\"\"\"\n",
    "print(pysqldf(query))\n"
   ]
  },
  {
   "cell_type": "markdown",
   "metadata": {},
   "source": [
    "COUNT:"
   ]
  },
  {
   "cell_type": "code",
   "execution_count": 10,
   "metadata": {},
   "outputs": [
    {
     "name": "stdout",
     "output_type": "stream",
     "text": [
      "   transaction_count\n",
      "0                 10\n"
     ]
    }
   ],
   "source": [
    "query = \"\"\"\n",
    "SELECT COUNT(*) AS transaction_count \n",
    "FROM df\n",
    "\"\"\"\n",
    "print(pysqldf(query))\n"
   ]
  },
  {
   "cell_type": "markdown",
   "metadata": {},
   "source": [
    "DISTINCT:"
   ]
  },
  {
   "cell_type": "code",
   "execution_count": 11,
   "metadata": {},
   "outputs": [
    {
     "name": "stdout",
     "output_type": "stream",
     "text": [
      "      category\n",
      "0  Electronics\n",
      "1    Furniture\n",
      "2   Stationery\n"
     ]
    }
   ],
   "source": [
    "query = \"\"\"\n",
    "SELECT DISTINCT category \n",
    "FROM df\n",
    "\"\"\"\n",
    "print(pysqldf(query))\n"
   ]
  }
 ],
 "metadata": {
  "kernelspec": {
   "display_name": "Python 3",
   "language": "python",
   "name": "python3"
  },
  "language_info": {
   "codemirror_mode": {
    "name": "ipython",
    "version": 3
   },
   "file_extension": ".py",
   "mimetype": "text/x-python",
   "name": "python",
   "nbconvert_exporter": "python",
   "pygments_lexer": "ipython3",
   "version": "3.9.6"
  }
 },
 "nbformat": 4,
 "nbformat_minor": 2
}
